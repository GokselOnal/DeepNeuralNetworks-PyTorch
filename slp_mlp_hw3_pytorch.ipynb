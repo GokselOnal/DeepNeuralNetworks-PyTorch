{
 "cells": [
  {
   "cell_type": "markdown",
   "metadata": {},
   "source": [
    "# SLP and MLP in Pytorch\n",
    "\n"
   ]
  },
  {
   "cell_type": "markdown",
   "metadata": {},
   "source": [
    "## Import Necessary modules"
   ]
  },
  {
   "cell_type": "code",
   "execution_count": 1,
   "metadata": {},
   "outputs": [
    {
     "name": "stderr",
     "output_type": "stream",
     "text": [
      "C:\\Users\\MSI\\anaconda3\\lib\\site-packages\\torchvision\\io\\image.py:11: UserWarning: Failed to load image Python extension: Could not find module 'C:\\Users\\MSI\\anaconda3\\Lib\\site-packages\\torchvision\\image.pyd' (or one of its dependencies). Try using the full path with constructor syntax.\n",
      "  warn(f\"Failed to load image Python extension: {e}\")\n"
     ]
    }
   ],
   "source": [
    "import torch\n",
    "import torchvision.transforms as transforms\n",
    "import torchvision.datasets as datasets\n",
    "import torch.nn as nn                              # neural network module\n",
    "import torch.nn.functional as F\n",
    "import torch.optim as optim                        # optimization module\n",
    "import torch.optim.lr_scheduler as lr_scheduler\n",
    "from torch.utils.data import Dataset\n",
    "\n",
    "from torch.utils.tensorboard import SummaryWriter  # logging module\n",
    "from torchvision.utils import make_grid, save_image\n",
    "\n",
    "import numpy as np"
   ]
  },
  {
   "cell_type": "code",
   "execution_count": 2,
   "metadata": {},
   "outputs": [
    {
     "name": "stdout",
     "output_type": "stream",
     "text": [
      "1.10.1\n"
     ]
    }
   ],
   "source": [
    "print(torch.__version__)"
   ]
  },
  {
   "cell_type": "markdown",
   "metadata": {},
   "source": [
    "## Custom Dataset loader"
   ]
  },
  {
   "cell_type": "code",
   "execution_count": 3,
   "metadata": {},
   "outputs": [],
   "source": [
    "class CustomDataset(Dataset):\n",
    "    \"\"\" Custom dataset for flattened 10x10 csv dataset \"\"\"\n",
    "\n",
    "    # Initialize data\n",
    "    def __init__(self, fname, transform=None):\n",
    "        self.xy = np.genfromtxt(fname, delimiter=',', skip_header=1, dtype=np.uint8)\n",
    "        self.transform = transform\n",
    "\n",
    "    def __getitem__(self, index):\n",
    "        x = self.xy[index, 1:].reshape(10,10,1) # H W C\n",
    "        y = self.xy[index, 0]\n",
    "        y = torch.as_tensor(y, dtype=torch.long)\n",
    "        if self.transform:\n",
    "            x = self.transform(x)\n",
    "        return x, y\n",
    "\n",
    "    def __len__(self):\n",
    "        return self.xy.shape[0]"
   ]
  },
  {
   "cell_type": "markdown",
   "metadata": {},
   "source": [
    "## Parameters and Hyperparameters"
   ]
  },
  {
   "cell_type": "code",
   "execution_count": 4,
   "metadata": {},
   "outputs": [],
   "source": [
    "# torch parameters\n",
    "SEED = 60            # reproducability\n",
    "# NN Parameters\n",
    "EPOCHS = 200         # number of epochs\n",
    "LR = 0.01            # learning rate\n",
    "MOMENTUM = 0.9       # momentum for the SGD optimizer (how much of the past gradients)\n",
    "GAMMA = 0.1          # learning rate scheduler (how much to decrease learning rate)\n",
    "BATCH_SIZE = 64      # number of images to load per iteration\n",
    "d = 100              # number of input features \n",
    "K = 10               # number of output features\n",
    "H = None             # H=None for SLP else MLP"
   ]
  },
  {
   "cell_type": "code",
   "execution_count": 5,
   "metadata": {},
   "outputs": [
    {
     "data": {
      "text/plain": [
       "<torch._C.Generator at 0x227ac442810>"
      ]
     },
     "execution_count": 5,
     "metadata": {},
     "output_type": "execute_result"
    }
   ],
   "source": [
    "# manual seed to reproduce the same results\n",
    "torch.manual_seed(SEED)"
   ]
  },
  {
   "cell_type": "code",
   "execution_count": 6,
   "metadata": {},
   "outputs": [],
   "source": [
    "# transform input data type from ndarray to tensor values between 0,1\n",
    "transform = transforms.Compose([\n",
    "    transforms.ToTensor(), \n",
    "])"
   ]
  },
  {
   "cell_type": "code",
   "execution_count": 7,
   "metadata": {},
   "outputs": [],
   "source": [
    "# read the datasets\n",
    "tr_dataset   = CustomDataset('data/training.csv', transform=transform)\n",
    "# prepare loader for the training dataset\n",
    "train_loader = torch.utils.data.DataLoader(tr_dataset, batch_size=BATCH_SIZE, shuffle=True, num_workers=0)\n",
    "\n",
    "# download the dataset if not already downloaded and set necessery transforms\n",
    "test_dataset = CustomDataset('data/testing.csv', transform=transform)\n",
    "# prepare loader for the test dataset\n",
    "test_loader = torch.utils.data.DataLoader(test_dataset, batch_size=BATCH_SIZE, shuffle=False, num_workers=0)"
   ]
  },
  {
   "cell_type": "markdown",
   "metadata": {},
   "source": [
    "## Define the Network"
   ]
  },
  {
   "cell_type": "code",
   "execution_count": 8,
   "metadata": {},
   "outputs": [],
   "source": [
    "# All networks derive from the base class nn.Module\n",
    "\n",
    "# Conv-FC-FC\n",
    "class class1(nn.Module):\n",
    "    # get input and output dimensions as input\n",
    "    def __init__(self, H):\n",
    "        # all derived classes must call __init__ method of super class\n",
    "        super(class1, self).__init__()\n",
    "        self.model = nn.Sequential(\n",
    "            nn.Conv2d(in_channels=1,\n",
    "                            out_channels=128, \n",
    "                            kernel_size=3,  \n",
    "                            stride=3,\n",
    "                            padding=2),\n",
    "            \n",
    "            nn.ReLU(),\n",
    "            nn.Flatten(start_dim=1),\n",
    "            nn.Linear(128*4*4,H),\n",
    "            nn.ReLU(),\n",
    "            nn.Linear(H,10)\n",
    "            )\n",
    "    \n",
    "    # forward method should get the input and return the output\n",
    "    def forward(self,x):\n",
    "        batch_size = x.shape[0] \n",
    "        # flatten the image from BxCxHXW to Bx100\n",
    "        #x = x.view(batch_size, -1)\n",
    "        x = self.model(x)\n",
    "        # softmax is internally done inside cross entropy loss\n",
    "        return torch.log_softmax(x, dim=1)\n",
    "    \n",
    "    \n",
    "    \n",
    "# Conv-Conv-FC \n",
    "class class2(nn.Module):\n",
    "    # get input and output dimensions as input\n",
    "    def __init__(self,H):\n",
    "        # all derived classes must call __init__ method of super class\n",
    "        super(class2, self).__init__()\n",
    "        self.model = nn.Sequential(\n",
    "            nn.Conv2d(in_channels=1,    \n",
    "                out_channels=64, \n",
    "                kernel_size=3,    \n",
    "                stride=2,\n",
    "                padding=2),\n",
    "            nn.Conv2d(in_channels=64,    \n",
    "                out_channels=128, \n",
    "                kernel_size=3,    \n",
    "                stride=2,\n",
    "                padding=1),\n",
    "            nn.ReLU(),\n",
    "            nn.Flatten(start_dim=1),\n",
    "            nn.Linear(128*3*3,10)\n",
    "        )\n",
    "    \n",
    "    # forward method should get the input and return the output\n",
    "    def forward(self,x):\n",
    "        batch_size = x.shape[0] \n",
    "        # flatten the image from BxCxHXW to Bx100\n",
    "        #x = x.view(batch_size, -1)\n",
    "        x = self.model(x)\n",
    "        # softmax is internally done inside cross entropy loss\n",
    "        return torch.log_softmax(x, dim=1)\n",
    "        \n",
    "#Conv-Conv-FC-FC\n",
    "class class3(nn.Module):\n",
    "    # get input and output dimensions as input\n",
    "    def __init__(self, H):\n",
    "        # all derived classes must call __init__ method of super class\n",
    "        super(class3, self).__init__()\n",
    "        self.model = nn.Sequential(\n",
    "            nn.Conv2d(in_channels=1,    \n",
    "                out_channels=64, \n",
    "                kernel_size=3,    \n",
    "                stride=2,\n",
    "                padding=2),\n",
    "            nn.Conv2d(in_channels=64,    \n",
    "                out_channels=128, \n",
    "                kernel_size=3,    \n",
    "                stride=2,\n",
    "                padding=1),\n",
    "            nn.ReLU(),\n",
    "            nn.Flatten(start_dim=1),\n",
    "            nn.Linear(128*3*3,H),\n",
    "            nn.ReLU(),\n",
    "            nn.Linear(H,10)\n",
    "        )\n",
    "    \n",
    "    # forward method should get the input and return the output\n",
    "    def forward(self,x):\n",
    "        batch_size = x.shape[0] \n",
    "        # flatten the image from BxCxHXW to Bx100\n",
    "        #x = x.view(batch_size, -1)\n",
    "        x = self.model(x)\n",
    "        # softmax is internally done inside cross entropy loss\n",
    "        return torch.log_softmax(x, dim=1)\n",
    "        \n",
    "        "
   ]
  },
  {
   "cell_type": "code",
   "execution_count": null,
   "metadata": {},
   "outputs": [],
   "source": []
  },
  {
   "cell_type": "markdown",
   "metadata": {},
   "source": [
    "## Create a network instance and move it to the device you want to run computations on"
   ]
  },
  {
   "cell_type": "code",
   "execution_count": 9,
   "metadata": {},
   "outputs": [
    {
     "name": "stdout",
     "output_type": "stream",
     "text": [
      "model.0.weight torch.Size([64, 1, 3, 3])\n",
      "model.0.bias torch.Size([64])\n",
      "model.1.weight torch.Size([128, 64, 3, 3])\n",
      "model.1.bias torch.Size([128])\n",
      "model.4.weight torch.Size([50, 1152])\n",
      "model.4.bias torch.Size([50])\n",
      "model.6.weight torch.Size([10, 50])\n",
      "model.6.bias torch.Size([10])\n"
     ]
    },
    {
     "name": "stderr",
     "output_type": "stream",
     "text": [
      "C:\\Users\\MSI\\anaconda3\\lib\\site-packages\\torch\\cuda\\__init__.py:80: UserWarning: CUDA initialization: The NVIDIA driver on your system is too old (found version 9020). Please update your GPU driver by downloading and installing a new version from the URL: http://www.nvidia.com/Download/index.aspx Alternatively, go to: https://pytorch.org to install a PyTorch version that has been compiled with your version of the CUDA driver. (Triggered internally at  ..\\c10\\cuda\\CUDAFunctions.cpp:112.)\n",
      "  return torch._C._cuda_getDeviceCount() > 0\n"
     ]
    },
    {
     "data": {
      "text/plain": [
       "class3(\n",
       "  (model): Sequential(\n",
       "    (0): Conv2d(1, 64, kernel_size=(3, 3), stride=(2, 2), padding=(2, 2))\n",
       "    (1): Conv2d(64, 128, kernel_size=(3, 3), stride=(2, 2), padding=(1, 1))\n",
       "    (2): ReLU()\n",
       "    (3): Flatten(start_dim=1, end_dim=-1)\n",
       "    (4): Linear(in_features=1152, out_features=50, bias=True)\n",
       "    (5): ReLU()\n",
       "    (6): Linear(in_features=50, out_features=10, bias=True)\n",
       "  )\n",
       ")"
      ]
     },
     "execution_count": 9,
     "metadata": {},
     "output_type": "execute_result"
    }
   ],
   "source": [
    "# create the network\n",
    "\n",
    "#net = class1(H = 25)\n",
    "#net = class2(H = 70)\n",
    "net = class3(H = 50)\n",
    "\n",
    "# print network parameter names and their size\n",
    "for name, param in net.named_parameters():\n",
    "  print(name, param.size())\n",
    "\n",
    "# check if CUDA is available\n",
    "cuda = torch.cuda.is_available()  \n",
    "device = torch.device(\"cuda:0\" if cuda else \"cpu\")\n",
    "\n",
    "# if cuda is available move the network to gpu\n",
    "net.to(device)\n"
   ]
  },
  {
   "cell_type": "markdown",
   "metadata": {},
   "source": [
    "## Specify the loss function and the optimizer"
   ]
  },
  {
   "cell_type": "code",
   "execution_count": 10,
   "metadata": {},
   "outputs": [],
   "source": [
    "# specify the loss to be used\n",
    "# softmax is internally computed.\n",
    "loss_fn = nn.CrossEntropyLoss()\n",
    "# specify the optimizer to update the weights during backward pass\n",
    "optimizer = optim.SGD(net.parameters(), lr=LR, momentum=MOMENTUM)\n",
    "# change learning rate over time\n",
    "scheduler = lr_scheduler.StepLR(optimizer, step_size=100, gamma=GAMMA)\n"
   ]
  },
  {
   "cell_type": "markdown",
   "metadata": {},
   "source": [
    "## Define training function"
   ]
  },
  {
   "cell_type": "code",
   "execution_count": 11,
   "metadata": {},
   "outputs": [],
   "source": [
    "def train_net():\n",
    "  # put the network in training mode\n",
    "  net.train()\n",
    "  # keep record of the loss value\n",
    "  epoch_loss = 0.0\n",
    "  # use training data as batches\n",
    "  for xt, rt in train_loader:\n",
    "    # move training instances and corresponding labels into gpu if cuda is available\n",
    "    xt, rt = xt.to(device), rt.to(device)\n",
    "    # clear the previously accumulated gradients\n",
    "    optimizer.zero_grad()\n",
    "    # forward the network\n",
    "    yt = net(xt)\n",
    "    # calculate loss\n",
    "    loss = loss_fn(yt, rt)\n",
    "    # make a backward pass, calculate gradients\n",
    "    loss.backward()\n",
    "    # update weights\n",
    "    optimizer.step()\n",
    "    # accumulate loss\n",
    "    epoch_loss += loss.item()\n",
    "  return epoch_loss\n",
    "  "
   ]
  },
  {
   "cell_type": "markdown",
   "metadata": {},
   "source": [
    "## Define test function"
   ]
  },
  {
   "cell_type": "code",
   "execution_count": 12,
   "metadata": {},
   "outputs": [],
   "source": [
    "def eval_net(loader):\n",
    "  # put the network in evaluation mode\n",
    "  net.eval()\n",
    "  # keep record of the loss value\n",
    "  total_loss = 0.0\n",
    "  # number of correctly classified instances\n",
    "  correct = 0\n",
    "  # disable gradient tracking\n",
    "  with torch.no_grad():\n",
    "    for xt, rt in loader:\n",
    "      # move training instances and corresponding labels into gpu if cuda is available\n",
    "      xt, rt = xt.to(device), rt.to(device)\n",
    "      # save_image(xt, f'images/sample_grid.png')  # save 8 images\n",
    "      # x = 8/0\n",
    "      # forward the network\n",
    "      yt = net(xt)\n",
    "      # calculate loss\n",
    "      loss = loss_fn(yt, rt)\n",
    "      # accumulate loss\n",
    "      total_loss += loss.item()\n",
    "      # get predicted classes\n",
    "      pred = yt.argmax(dim=1)\n",
    "      # accumulate correctly classified image counts\n",
    "      correct += (pred == rt).sum().item()\n",
    "      #correct += pred.eq(rt.view_as(pred)).sum().item()\n",
    "  return correct/len(loader.dataset), total_loss \n",
    "  "
   ]
  },
  {
   "cell_type": "markdown",
   "metadata": {},
   "source": [
    "## 9.Train the network"
   ]
  },
  {
   "cell_type": "code",
   "execution_count": 13,
   "metadata": {
    "scrolled": true
   },
   "outputs": [
    {
     "name": "stdout",
     "output_type": "stream",
     "text": [
      "Epoch 1 Tr Acc: 0.189 Tt_Ac 0.157\n",
      "Epoch 11 Tr Acc: 0.846 Tt_Ac 0.782\n",
      "Epoch 21 Tr Acc: 0.921 Tt_Ac 0.848\n",
      "Epoch 31 Tr Acc: 0.957 Tt_Ac 0.855\n",
      "Epoch 41 Tr Acc: 0.98 Tt_Ac 0.872\n",
      "Epoch 51 Tr Acc: 0.995 Tt_Ac 0.87\n",
      "Epoch 61 Tr Acc: 0.998 Tt_Ac 0.874\n",
      "Epoch 71 Tr Acc: 1.0 Tt_Ac 0.873\n",
      "Epoch 81 Tr Acc: 1.0 Tt_Ac 0.871\n",
      "Epoch 91 Tr Acc: 1.0 Tt_Ac 0.88\n",
      "Epoch 101 Tr Acc: 1.0 Tt_Ac 0.878\n",
      "Epoch 111 Tr Acc: 1.0 Tt_Ac 0.878\n",
      "Epoch 121 Tr Acc: 1.0 Tt_Ac 0.88\n",
      "Epoch 131 Tr Acc: 1.0 Tt_Ac 0.88\n",
      "Epoch 141 Tr Acc: 1.0 Tt_Ac 0.878\n",
      "Epoch 151 Tr Acc: 1.0 Tt_Ac 0.879\n",
      "Epoch 161 Tr Acc: 1.0 Tt_Ac 0.88\n",
      "Epoch 171 Tr Acc: 1.0 Tt_Ac 0.879\n",
      "Epoch 181 Tr Acc: 1.0 Tt_Ac 0.881\n",
      "Epoch 191 Tr Acc: 1.0 Tt_Ac 0.881\n"
     ]
    }
   ],
   "source": [
    "# initialize the logger instance\n",
    "# by default creates run directory inside current folder\n",
    "writer = SummaryWriter()           \n",
    "# train the network\n",
    "for epoch in range(1,EPOCHS+1):\n",
    "  # train network for one epoch\n",
    "  train_net()\n",
    "  scheduler.step()\n",
    "  # get accuracy and loss on the training dataset\n",
    "  tr_ac, tr_loss = eval_net(train_loader)\n",
    "  # get accuracy and loss on the test dataset\n",
    "  tt_ac, tt_loss = eval_net(test_loader)\n",
    "  # save stats\n",
    "  writer.add_scalars(\"Loss\", {\"tr_loss\": tr_loss, \"tt_loss\":tt_loss} , epoch)\n",
    "  writer.add_scalars(\"Accuracy\", {\"tr_acc\": tr_ac, \"tt_acc\":tt_ac}, epoch)\n",
    "\n",
    "  if (epoch-1) % 10 == 0:\n",
    "    print(\"Epoch\", epoch, \"Tr Acc:\",tr_ac, \"Tt_Ac\", tt_ac)\n",
    "\n",
    "    \"\"\"\n",
    "  # run only if SLP\n",
    "  if H is None:\n",
    "    weights = net.model.weight                  # 10x100\n",
    "    weights = weights.view(10, 10, 10)          # 10x10x10\n",
    "    weights = weights.unsqueeze(dim=1)          # 10x1x10x10 B C H W\n",
    "    mean_images = make_grid(weights, normalize=True)\n",
    "    writer.add_image(\"Images/mean_images\", mean_images, epoch)\n",
    "    \"\"\"\n",
    "\n",
    "  writer.flush()\n",
    "writer.close()"
   ]
  },
  {
   "cell_type": "markdown",
   "metadata": {},
   "source": [
    "## Save the model"
   ]
  },
  {
   "cell_type": "code",
   "execution_count": 14,
   "metadata": {},
   "outputs": [],
   "source": [
    "# save the network model\n",
    "\"\"\"\n",
    "if H is None:\n",
    "    torch.save(net.state_dict(), 'model/slp.pth')\n",
    "else:\"\"\"\n",
    "torch.save(net.state_dict(), 'model/mlp.pth')\n"
   ]
  },
  {
   "cell_type": "markdown",
   "metadata": {},
   "source": [
    "## Visualize results on tensorboard"
   ]
  },
  {
   "cell_type": "code",
   "execution_count": 15,
   "metadata": {
    "scrolled": true
   },
   "outputs": [
    {
     "data": {
      "text/html": [
       "\n",
       "      <iframe id=\"tensorboard-frame-ad6b6df43a61764f\" width=\"100%\" height=\"800\" frameborder=\"0\">\n",
       "      </iframe>\n",
       "      <script>\n",
       "        (function() {\n",
       "          const frame = document.getElementById(\"tensorboard-frame-ad6b6df43a61764f\");\n",
       "          const url = new URL(\"/\", window.location);\n",
       "          const port = 6006;\n",
       "          if (port) {\n",
       "            url.port = port;\n",
       "          }\n",
       "          frame.src = url;\n",
       "        })();\n",
       "      </script>\n",
       "    "
      ],
      "text/plain": [
       "<IPython.core.display.HTML object>"
      ]
     },
     "metadata": {},
     "output_type": "display_data"
    }
   ],
   "source": [
    "%load_ext tensorboard\n",
    "%tensorboard --logdir runs\n",
    "# open http://localhost:6006/ to view the results\n"
   ]
  },
  {
   "cell_type": "code",
   "execution_count": 16,
   "metadata": {},
   "outputs": [],
   "source": [
    "#%reload_ext tensorboard"
   ]
  },
  {
   "cell_type": "code",
   "execution_count": 17,
   "metadata": {},
   "outputs": [
    {
     "name": "stderr",
     "output_type": "stream",
     "text": [
      "'kill' is not recognized as an internal or external command,\n",
      "operable program or batch file.\n"
     ]
    }
   ],
   "source": [
    "!kill 16152"
   ]
  },
  {
   "cell_type": "code",
   "execution_count": 18,
   "metadata": {},
   "outputs": [],
   "source": [
    "#weights.size()"
   ]
  }
 ],
 "metadata": {
  "kernelspec": {
   "display_name": "Python 3",
   "language": "python",
   "name": "python3"
  },
  "language_info": {
   "codemirror_mode": {
    "name": "ipython",
    "version": 3
   },
   "file_extension": ".py",
   "mimetype": "text/x-python",
   "name": "python",
   "nbconvert_exporter": "python",
   "pygments_lexer": "ipython3",
   "version": "3.8.8"
  }
 },
 "nbformat": 4,
 "nbformat_minor": 2
}
